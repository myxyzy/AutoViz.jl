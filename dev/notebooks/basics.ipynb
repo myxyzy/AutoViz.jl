{
 "cells": [
  {
   "outputs": [],
   "cell_type": "markdown",
   "source": [
    "# AutoViz Basics"
   ],
   "metadata": {}
  },
  {
   "outputs": [],
   "cell_type": "markdown",
   "source": [
    "To run these tutorials, you must be using `julia 1.1+` and have `AutoViz.jl` installed."
   ],
   "metadata": {}
  },
  {
   "outputs": [],
   "cell_type": "markdown",
   "source": [
    "The core function of the `AutoViz.jl` package is `AutoViz.render()`\n",
    "\n",
    "\n",
    "In its simplest form, the `render` function only takes one argument:\n",
    "an iterable collection of renderable objects, `renderables`.\n",
    "In order for an object to be renderable, it needs to implement the\n",
    "`add_renderable!()` function.\n",
    "\n",
    "By default, the `render()` function will do its best to make all the contents of\n",
    "the scene fit to the canvas of dimensions `canvas_width` x `canvas_height`.\n",
    "More fine-grained control over camera positioning can be achieved by providing\n",
    "the `camera` keyword.\n",
    "In case a custom camera is used, it is important to call\n",
    "`update_camera!(camera, scene)` before rendering.\n",
    "\n",
    "The Cairo surface to be used for plotting can be specified using the `surface` keyword.\n",
    "The `render()` function applies the rendering instructions to the `surface` and\n",
    "returns it. In the tutorials, we will denote the returned `surface` as a\n",
    "`snapshot` of the scene. Such snapshots can be saved to file using the command\n",
    "\n",
    "```julia\n",
    "write(\"snapshot.svg\", snapshot)\n",
    "```"
   ],
   "metadata": {}
  },
  {
   "outputs": [],
   "cell_type": "markdown",
   "source": [
    "## Basic rendering"
   ],
   "metadata": {}
  },
  {
   "outputs": [],
   "cell_type": "markdown",
   "source": [
    "We start our example by rendering an empty roadway"
   ],
   "metadata": {}
  },
  {
   "outputs": [],
   "cell_type": "code",
   "source": [
    "using AutomotiveDrivingModels\n",
    "using AutoViz\n",
    "\n",
    "roadway = gen_straight_roadway(3, 100.0)\n",
    "\n",
    "snapshot = render([roadway], canvas_height=120)"
   ],
   "metadata": {},
   "execution_count": null
  },
  {
   "outputs": [],
   "cell_type": "markdown",
   "source": [
    "We can change the background color and render again"
   ],
   "metadata": {}
  },
  {
   "outputs": [],
   "cell_type": "code",
   "source": [
    "AutoViz.colortheme[\"background\"] = colorant\"white\"\n",
    "snapshot = render([roadway], canvas_height=120)"
   ],
   "metadata": {},
   "execution_count": null
  },
  {
   "outputs": [],
   "cell_type": "markdown",
   "source": [
    "Let's add some vehicles to the roadway"
   ],
   "metadata": {}
  },
  {
   "outputs": [],
   "cell_type": "code",
   "source": [
    "car_len = 4.8\n",
    "car_width = 1.8\n",
    "def = VehicleDef(AgentClass.CAR, car_len, car_width)\n",
    "w = DEFAULT_LANE_WIDTH\n",
    "scene = Scene(4)  # allocate a scene for 4 agents"
   ],
   "metadata": {},
   "execution_count": null
  },
  {
   "outputs": [],
   "cell_type": "markdown",
   "source": [
    "add three cars"
   ],
   "metadata": {}
  },
  {
   "outputs": [],
   "cell_type": "code",
   "source": [
    "push!.(Ref(scene), [\n",
    "    Vehicle(VehicleState(VecSE2(10.0,   w, 0.0), roadway, 4.0 + 2.0randn()), def, 1),\n",
    "    Vehicle(VehicleState(VecSE2(40.0, 0.0, 0.0), roadway, 4.0 + 2.0randn()), def, 2),\n",
    "    Vehicle(VehicleState(VecSE2(70.0,   w, 0.0), roadway, 4.0 + 2.0randn()), def, 3),\n",
    "])"
   ],
   "metadata": {},
   "execution_count": null
  },
  {
   "outputs": [],
   "cell_type": "markdown",
   "source": [
    "add a pedestrian"
   ],
   "metadata": {}
  },
  {
   "outputs": [],
   "cell_type": "code",
   "source": [
    "push!(scene, Vehicle(\n",
    "    VehicleState(VecSE2(50.0, 2w, -π/2), roadway, 2.0),\n",
    "    VehicleDef(AgentClass.PEDESTRIAN, 1., 1.),\n",
    "    42\n",
    "))\n",
    "snapshot = render([roadway, scene], canvas_height=120)"
   ],
   "metadata": {},
   "execution_count": null
  },
  {
   "outputs": [],
   "cell_type": "markdown",
   "source": [
    "## Vehicle Shapes\n",
    "\n",
    "The `render` function provides some defaults for rendering basic building blocks\n",
    "such as entities or roadways.\n",
    "If the value of `AutoViz.rendermode` is set to `:basic`, entities are simply\n",
    "rendered as rectangles with arrows indicating their velocities.\n",
    "This can also be done explicitly via"
   ],
   "metadata": {}
  },
  {
   "outputs": [],
   "cell_type": "code",
   "source": [
    "renderables = [\n",
    "    roadway,\n",
    "    (EntityRectangle(entity=x) for x in scene)...,\n",
    "    (VelocityArrow(entity=x) for x in scene)...,\n",
    "]\n",
    "snapshot = render(renderables, canvas_height=120)"
   ],
   "metadata": {},
   "execution_count": null
  },
  {
   "outputs": [],
   "cell_type": "markdown",
   "source": [
    "The result remains the same. The velocity arrows point to the location at which\n",
    "the vehicle would be 1 second in the future.\n",
    "\n",
    "Setting `AutoViz.rendermode` to `:fancy`, the rectangles are replaced by SVG\n",
    "images of cars (or pedestrians)."
   ],
   "metadata": {}
  },
  {
   "outputs": [],
   "cell_type": "code",
   "source": [
    "AutoViz.set_render_mode(:fancy)\n",
    "snapshot = render([roadway, scene], canvas_height=120)"
   ],
   "metadata": {},
   "execution_count": null
  },
  {
   "outputs": [],
   "cell_type": "markdown",
   "source": [
    "Which is shorthand for"
   ],
   "metadata": {}
  },
  {
   "outputs": [],
   "cell_type": "code",
   "source": [
    "renderables = [\n",
    "    roadway, (FancyCar(car=scene[i]) for i in 1:3)..., FancyPedestrian(ped=scene[4])\n",
    "]\n",
    "snapshot = render(renderables, canvas_height=120)"
   ],
   "metadata": {},
   "execution_count": null
  },
  {
   "outputs": [],
   "cell_type": "markdown",
   "source": [
    "A third visualization mode is available in the form of arrow cars, in which the\n",
    "arrow indicates the heading direction of the car but does not scale with speed."
   ],
   "metadata": {}
  },
  {
   "outputs": [],
   "cell_type": "code",
   "source": [
    "renderables = [\n",
    "    roadway, (ArrowCar(car=scene[i]) for i in 1:3)..., FancyPedestrian(ped=scene[4])\n",
    "]\n",
    "snapshot = render(renderables, canvas_height=120)"
   ],
   "metadata": {},
   "execution_count": null
  },
  {
   "outputs": [],
   "cell_type": "markdown",
   "source": [
    "It is also possible to render single vehicles"
   ],
   "metadata": {}
  },
  {
   "outputs": [],
   "cell_type": "code",
   "source": [
    "fancy_car = FancyCar(car=Vehicle(VehicleState(VecSE2(0.,0.), 0.), VehicleDef(), 1))\n",
    "snapshot = render([fancy_car], camera=StaticCamera(zoom=100.))"
   ],
   "metadata": {},
   "execution_count": null
  },
  {
   "outputs": [],
   "cell_type": "markdown",
   "source": [
    "## Vehicle Colors\n",
    "\n",
    "By default, the `render` function generates a random color for each entity based\n",
    "on its ID using the `id_to_color()` function.\n",
    "However, vehicle colors can also be assigned explicitly:"
   ],
   "metadata": {}
  },
  {
   "outputs": [],
   "cell_type": "code",
   "source": [
    "colors = [colorant\"red\", colorant\"blue\", colorant\"green\"]\n",
    "renderables = [\n",
    "    roadway,\n",
    "    (FancyCar(car=scene[i], color=colors[i]) for i in 1:3)...,\n",
    "    FancyPedestrian(ped=scene[4], color=colorant\"yellow\")\n",
    "]\n",
    "snapshot = render(renderables, canvas_height=120)"
   ],
   "metadata": {},
   "execution_count": null
  },
  {
   "outputs": [],
   "cell_type": "markdown",
   "source": [
    "## Custom Renderable Objects"
   ],
   "metadata": {}
  },
  {
   "outputs": [],
   "cell_type": "code",
   "source": [
    "using Colors\n",
    "\n",
    "struct MyRenderableCircle\n",
    "    pos::VecE2\n",
    "    radius::Float64\n",
    "    color::Colorant\n",
    "end\n",
    "\n",
    "function AutoViz.add_renderable!(rendermodel::RenderModel, circle::MyRenderableCircle)"
   ],
   "metadata": {},
   "execution_count": null
  },
  {
   "outputs": [],
   "cell_type": "markdown",
   "source": [
    "add the desired render instructions to the rendermodel"
   ],
   "metadata": {}
  },
  {
   "outputs": [],
   "cell_type": "code",
   "source": [
    "    add_instruction!(\n",
    "        rendermodel, AutoViz.render_circle,\n",
    "        (circle.pos.x, circle.pos.y, circle.radius, circle.color),\n",
    "        coordinate_system=:scene\n",
    "    )\n",
    "    return rendermodel\n",
    "end\n",
    "\n",
    "circles = [MyRenderableCircle(VecE2(4i,3.0*(1+sin(i/4))), .5+rand(), rand(RGB)) for i in 1:20]\n",
    "snapshot = render([roadway, circles..., scene], canvas_height=120)\n",
    "write(\"custom_circles.svg\", snapshot) # hide"
   ],
   "metadata": {},
   "execution_count": null
  },
  {
   "outputs": [],
   "cell_type": "markdown",
   "source": [
    "## Simulation and Animations"
   ],
   "metadata": {}
  },
  {
   "outputs": [],
   "cell_type": "markdown",
   "source": [
    "We can simulate the scenario over time and visualize the results using `Reel`\n",
    "(based on `ffmpeg`)."
   ],
   "metadata": {}
  },
  {
   "outputs": [],
   "cell_type": "code",
   "source": [
    "using Reel\n",
    "\n",
    "timestep = 0.1\n",
    "nticks = 50\n",
    "\n",
    "models = Dict((i => Tim2DDriver(timestep) for i in 1:3))  # car models\n",
    "models[42] = Tim2DDriver(timestep)  # TODO: better pedestrian model\n",
    "\n",
    "scenes = simulate(scene, roadway, models, nticks, timestep)\n",
    "\n",
    "animation = roll(fps=1.0/timestep, duration=nticks*timestep) do t, dt\n",
    "    i = Int(floor(t/dt)) + 1\n",
    "    render([roadway, scenes[i]], canvas_height=120)\n",
    "end"
   ],
   "metadata": {},
   "execution_count": null
  },
  {
   "outputs": [],
   "cell_type": "markdown",
   "source": [
    "Alternatively, the scene can also be visualized interactively using `Interact`"
   ],
   "metadata": {}
  },
  {
   "outputs": [],
   "cell_type": "code",
   "source": [
    "using Interact\n",
    "using Reel\n",
    "using Blink\n",
    "#nb\n",
    "w = Window()\n",
    "viz = @manipulate for step in 1 : length(scenes)\n",
    "    render([roadway, scenes[step]])\n",
    "end\n",
    "body!(w, viz)"
   ],
   "metadata": {},
   "execution_count": null
  },
  {
   "outputs": [],
   "cell_type": "markdown",
   "source": [
    "Another common visualization package is `Reactive`."
   ],
   "metadata": {}
  },
  {
   "outputs": [],
   "cell_type": "markdown",
   "source": [
    "---\n",
    "\n",
    "*This notebook was generated using [Literate.jl](https://github.com/fredrikekre/Literate.jl).*"
   ],
   "metadata": {}
  }
 ],
 "nbformat_minor": 3,
 "metadata": {
  "language_info": {
   "file_extension": ".jl",
   "mimetype": "application/julia",
   "name": "julia",
   "version": "1.0.5"
  },
  "kernelspec": {
   "name": "julia-1.0",
   "display_name": "Julia 1.0.5",
   "language": "julia"
  }
 },
 "nbformat": 4
}
