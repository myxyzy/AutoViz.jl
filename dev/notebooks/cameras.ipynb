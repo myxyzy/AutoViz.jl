{
 "cells": [
  {
   "outputs": [],
   "cell_type": "markdown",
   "source": [
    "# Cameras"
   ],
   "metadata": {}
  },
  {
   "outputs": [],
   "cell_type": "markdown",
   "source": [
    "In this section, we will showcase the cameras that are supported by\n",
    "`AutoViz.jl`.\n",
    "\n",
    "All cameras make use of the `CameraState` object to represent the internal camera state.\n",
    "\n",
    "\n",
    "The following camera types are supported by `AutoViz`:\n",
    "`StaticCamera`, `TargetFollowCamera`, `SceneFollowCamera`, `ZoomingCamera`,\n",
    "`ComposedCamera`.\n",
    "The keyword arguments accepted by the `CameraState` object can also be passed to\n",
    "the constructors of these cameras, and they will be forwarded to the internal\n",
    "camera state. Now, we will show how the different cameras behave based on the\n",
    "simple stadium example.\n",
    "\n",
    "First, we prepare a sequence of scenes visualize"
   ],
   "metadata": {}
  },
  {
   "outputs": [],
   "cell_type": "code",
   "source": [
    "using AutomotiveDrivingModels\n",
    "using AutoViz\n",
    "AutoViz.colortheme[\"background\"] = colorant\"white\"; # hide\n",
    "\n",
    "nlanes = 4\n",
    "nveh = 5\n",
    "nticks = 100\n",
    "timestep = 0.1\n",
    "\n",
    "roadway = gen_stadium_roadway(nlanes)\n",
    "\n",
    "scene = Scene([Entity(VehicleState(\n",
    "    Frenet(roadway[LaneTag(1,rand(1:nlanes))], 10.0*i), roadway, 4.0 + 2.0rand()\n",
    "), VehicleDef(), i) for i in 1:nveh])\n",
    "\n",
    "models = Dict((\n",
    "    i => LatLonSeparableDriver(ProportionalLaneTracker(), IntelligentDriverModel())\n",
    "    for i in 1:nveh\n",
    "))\n",
    "set_desired_speed!.(values(models), 8.0 .+ 4.0rand(nveh))\n",
    "\n",
    "\n",
    "scenes = simulate(scene, roadway, models, nticks, timestep)\n",
    "nothing # hide"
   ],
   "metadata": {},
   "execution_count": null
  },
  {
   "outputs": [],
   "cell_type": "markdown",
   "source": [
    "The following helper function takes care of generating an animation from a\n",
    "sequence of scenes, using a given `camera`.\n",
    "Note that for `camera=nothing`, the render function attempts to fit all the\n",
    "renderable objects on the canvas."
   ],
   "metadata": {}
  },
  {
   "outputs": [],
   "cell_type": "code",
   "source": [
    "using Reel\n",
    "\n",
    "function animate(roadway, scenes, camera=nothing)\n",
    "    animation = roll(fps=1.0/timestep, duration=nticks*timestep) do t, dt\n",
    "        i = Int(floor(t/dt)) + 1\n",
    "        update_camera!(camera, scenes[i])\n",
    "        renderables = [\n",
    "            roadway, scenes[i],\n",
    "            IDOverlay(scene=scenes[i], x_off=-2, y_off=1),\n",
    "        ]\n",
    "        render(renderables, camera=camera)\n",
    "    end\n",
    "    return animation\n",
    "end\n",
    "nothing # hide"
   ],
   "metadata": {},
   "execution_count": null
  },
  {
   "outputs": [],
   "cell_type": "markdown",
   "source": [
    "The call to `update_camera!(camera, scenes[i])` is important as it allows the\n",
    "internal camera state to be updated based on the positions of the vehicles."
   ],
   "metadata": {}
  },
  {
   "outputs": [],
   "cell_type": "markdown",
   "source": [
    "## Default camera: fit to content\n",
    "\n",
    "The default camera uses the render instructions that are stored inside the\n",
    "`RenderModel` in order to compute a bounding box which holds all renderable\n",
    "objects."
   ],
   "metadata": {}
  },
  {
   "outputs": [],
   "cell_type": "code",
   "source": [
    "animation = animate(roadway, scenes);\n",
    "write(\"stadium_cam_default.gif\", animation) # hide"
   ],
   "metadata": {},
   "execution_count": null
  },
  {
   "outputs": [],
   "cell_type": "markdown",
   "source": [
    "Note that some renderable objects (such as custom objects) may not be\n",
    "considered by the default fit to content camera when the bounding box is\n",
    "computed. Therefore, they may be cut off."
   ],
   "metadata": {}
  },
  {
   "outputs": [],
   "cell_type": "markdown",
   "source": [
    "## Static Camera\n",
    "\n",
    "A static camera maintains its position, zoom and rotation. It is the only camera\n",
    "that doesn't change its state when calling `update_camera!()`."
   ],
   "metadata": {}
  },
  {
   "outputs": [],
   "cell_type": "code",
   "source": [
    "animation = animate(roadway, scenes, StaticCamera(zoom=5.))\n",
    "write(\"stadium_cam_static_default.gif\", animation) # hide"
   ],
   "metadata": {},
   "execution_count": null
  },
  {
   "outputs": [],
   "cell_type": "markdown",
   "source": [
    "We can pass in zoom, position and rotation parameters in order to change the camera state."
   ],
   "metadata": {}
  },
  {
   "outputs": [],
   "cell_type": "code",
   "source": [
    "animation = animate(\n",
    "    roadway, scenes,\n",
    "    StaticCamera(position=VecE2(20.,10.), rotation=.2, zoom=8.)\n",
    ")\n",
    "write(\"stadium_cam_static_custom.gif\", animation) # hide"
   ],
   "metadata": {},
   "execution_count": null
  },
  {
   "outputs": [],
   "cell_type": "markdown",
   "source": [
    "## Target Follow Camera\n",
    "\n",
    "In many applications, we are interested in tracking one particular vehicle.\n",
    "To do this, we can use a `TargetFollowCamera` which follows a vehicle with a\n",
    "given ID. Let's follow the vehicle with ID `3`:"
   ],
   "metadata": {}
  },
  {
   "outputs": [],
   "cell_type": "code",
   "source": [
    "animation = animate(roadway, scenes, TargetFollowCamera(3, zoom=5.))\n",
    "write(\"stadium_cam_target.gif\", animation) # hide"
   ],
   "metadata": {},
   "execution_count": null
  },
  {
   "outputs": [],
   "cell_type": "markdown",
   "source": [
    "Sometimes, it is desireable fix the x or y position of the camera.\n",
    "For example, we can use the `TargetFollowCamera` to track a vehicle\n",
    "horizontally (in x direction), while keeping the vertical position\n",
    "(y direction) fixed.\n",
    "To do this, we simply provide a fixed value for the corresponding keyword\n",
    "argument `y`."
   ],
   "metadata": {}
  },
  {
   "outputs": [],
   "cell_type": "code",
   "source": [
    "animation = animate(roadway, scenes, TargetFollowCamera(3, zoom=10., y=40.))\n",
    "write(\"stadium_cam_target_y.gif\", animation) # hide"
   ],
   "metadata": {},
   "execution_count": null
  },
  {
   "outputs": [],
   "cell_type": "markdown",
   "source": [
    "## Scene Follow Camera\n",
    "\n",
    "In contrast to the `TargetFollowCamera`, the `SceneFollowCamera` tracks the\n",
    "center of mass of all the vehicles in a scene. The `padding` parameter specifies\n",
    "how man metres of padding there should be around the vehicles in the scene"
   ],
   "metadata": {}
  },
  {
   "outputs": [],
   "cell_type": "code",
   "source": [
    "animation = animate(roadway, scenes, SceneFollowCamera(padding=4.))\n",
    "write(\"stadium_cam_scene.gif\", animation) # hide"
   ],
   "metadata": {},
   "execution_count": null
  },
  {
   "outputs": [],
   "cell_type": "markdown",
   "source": [
    "If we desire to follow the scene, but fix the zoom level,\n",
    "we can do so by passing in the corresponding keyword argument `zoom`."
   ],
   "metadata": {}
  },
  {
   "outputs": [],
   "cell_type": "code",
   "source": [
    "animation = animate(roadway, scenes, SceneFollowCamera(zoom=20.))\n",
    "write(\"stadium_cam_scene_zoom.gif\", animation) # hide"
   ],
   "metadata": {},
   "execution_count": null
  },
  {
   "outputs": [],
   "cell_type": "markdown",
   "source": [
    "## Zooming Camera\n",
    "\n",
    "The zooming camera changes its zoom level by an increment `dz` anytime the\n",
    "`update_camera!()` function is called, until a zoom level of `zoom_target` is reached."
   ],
   "metadata": {}
  },
  {
   "outputs": [],
   "cell_type": "code",
   "source": [
    "animation = animate(roadway, scenes, ZoomingCamera(zoom_target=20., dz=0.4, zoom=2.))\n",
    "write(\"stadium_cam_zooming.gif\", animation) # hide"
   ],
   "metadata": {},
   "execution_count": null
  },
  {
   "outputs": [],
   "cell_type": "markdown",
   "source": [
    "## Composed Camera\n",
    "\n",
    "Finally, the `ComposedCamera` can be used to combine different camera behaviors.\n",
    "For example, one can use the `TargetFollowCamera` together with the\n",
    "`ZoomingCamera` in order to follow a vehicle and zoom in on it.\n",
    "The constructor of the `CompostedCamera` takes an array of cameras which are\n",
    "applied in the same sequence as they are provided in the array."
   ],
   "metadata": {}
  },
  {
   "outputs": [],
   "cell_type": "code",
   "source": [
    "animation = animate(roadway, scenes, ComposedCamera([\n",
    "    TargetFollowCamera(3),\n",
    "    ZoomingCamera(zoom_target=25., dz=0.4, zoom=1.),\n",
    "]))\n",
    "write(\"stadium_cam_composed.gif\", animation) # hide"
   ],
   "metadata": {},
   "execution_count": null
  },
  {
   "outputs": [],
   "cell_type": "markdown",
   "source": [
    "## Custom Camera\n",
    "\n",
    "Finally, we will show how to build a custom camera. We will build a camera whose\n",
    "angle is always aligned with the axis of the target vehicle with ID `target_id`"
   ],
   "metadata": {}
  },
  {
   "outputs": [],
   "cell_type": "code",
   "source": [
    "mutable struct TargetRotateCamera{I} <: Camera\n",
    "    state::CameraState\n",
    "    target_id::I\n",
    "end\n",
    "TargetRotateCamera(target_id; kwargs...) = TargetRotateCamera(CameraState(;kwargs...), target_id)\n",
    "nothing # hide"
   ],
   "metadata": {},
   "execution_count": null
  },
  {
   "outputs": [],
   "cell_type": "markdown",
   "source": [
    "In the `update_camera!()` function, we need to set the camera rotation to be the\n",
    "same as the vehicle yaw angle"
   ],
   "metadata": {}
  },
  {
   "outputs": [],
   "cell_type": "code",
   "source": [
    "function AutoViz.update_camera!(camera::TargetRotateCamera{I}, scene::Scene{E}) where {I,E<:Entity}\n",
    "    target = get_by_id(scene, camera.target_id)\n",
    "    yaw = posg(target.state)[3]\n",
    "    set_camera!(camera.state, rotation=-yaw)\n",
    "    return camera.state\n",
    "end\n",
    "nothing # hide"
   ],
   "metadata": {},
   "execution_count": null
  },
  {
   "outputs": [],
   "cell_type": "markdown",
   "source": [
    "Finally, we can use our custom camera just like the other cameras"
   ],
   "metadata": {}
  },
  {
   "outputs": [],
   "cell_type": "code",
   "source": [
    "animation = animate(roadway, scenes, TargetRotateCamera(3, zoom=5.))\n",
    "write(\"stadium_cam_custom.gif\", animation) # hide"
   ],
   "metadata": {},
   "execution_count": null
  },
  {
   "outputs": [],
   "cell_type": "markdown",
   "source": [
    "Also, we can combine the camera with other cameras to our liking"
   ],
   "metadata": {}
  },
  {
   "outputs": [],
   "cell_type": "code",
   "source": [
    "animation = animate(roadway, scenes, ComposedCamera([\n",
    "    TargetFollowCamera(3),\n",
    "    TargetRotateCamera(3),\n",
    "    ZoomingCamera(zoom_target=25., dz=0.4, zoom=1.),\n",
    "]))\n",
    "write(\"stadium_cam_composed_custom.gif\", animation) # hide"
   ],
   "metadata": {},
   "execution_count": null
  },
  {
   "outputs": [],
   "cell_type": "markdown",
   "source": [
    "---\n",
    "\n",
    "*This notebook was generated using [Literate.jl](https://github.com/fredrikekre/Literate.jl).*"
   ],
   "metadata": {}
  }
 ],
 "nbformat_minor": 3,
 "metadata": {
  "language_info": {
   "file_extension": ".jl",
   "mimetype": "application/julia",
   "name": "julia",
   "version": "1.3.1"
  },
  "kernelspec": {
   "name": "julia-1.3",
   "display_name": "Julia 1.3.1",
   "language": "julia"
  }
 },
 "nbformat": 4
}
