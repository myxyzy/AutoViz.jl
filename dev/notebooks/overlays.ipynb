{
 "cells": [
  {
   "outputs": [],
   "cell_type": "markdown",
   "source": [
    "# Overlays"
   ],
   "metadata": {}
  },
  {
   "outputs": [],
   "cell_type": "markdown",
   "source": [
    "Overlays are useful to display additional information on top of a given driving scene.\n",
    "For example, they can be used to display the ID of the vehicle, their speed, or other useful information.\n",
    "The underlying type from which all overlays should inherit is `SceneOverlay`."
   ],
   "metadata": {}
  },
  {
   "outputs": [],
   "cell_type": "markdown",
   "source": [
    "More generally, renderable objects that are passed to the render function\n",
    "are rendered in the order they are passed in.\n",
    "For example, if we pass a collection consisting of a roadway and a scene,\n",
    "the roadway is rendered first, and the scene is rendered on top of the roadway."
   ],
   "metadata": {}
  },
  {
   "outputs": [],
   "cell_type": "markdown",
   "source": [
    "This behavior leaves the possibility to create overlays as well as \"underlays\"\n",
    "that may be drawn under the vehicles."
   ],
   "metadata": {}
  },
  {
   "outputs": [],
   "cell_type": "markdown",
   "source": [
    "In this tutorial, we will use the same stadium scenario as shown in the camera example."
   ],
   "metadata": {}
  },
  {
   "outputs": [],
   "cell_type": "code",
   "source": [
    "using AutomotiveDrivingModels\n",
    "using AutoViz\n",
    "AutoViz.colortheme[\"background\"] = colorant\"white\"; # hide\n",
    "AutoViz.set_render_mode(:fancy)\n",
    "\n",
    "nlanes = 2\n",
    "nveh = 8\n",
    "nticks = 100\n",
    "timestep = 0.1\n",
    "\n",
    "roadway = gen_stadium_roadway(nlanes)\n",
    "\n",
    "scene = Frame([\n",
    "    Entity(\n",
    "        VehicleState(\n",
    "            Frenet(roadway[LaneTag(1,rand(1:nlanes))], 10.0*i),  # position\n",
    "            roadway, 4.0 + 2.0rand()  # speed\n",
    "        ),\n",
    "        VehicleDef(), i\n",
    "    ) for i in 1:nveh\n",
    "])\n",
    "\n",
    "models = Dict((\n",
    "    i => LatLonSeparableDriver(ProportionalLaneTracker(), IntelligentDriverModel())\n",
    "    for i in 1:nveh\n",
    "))\n",
    "set_desired_speed!.(values(models), 8.0 .+ 4.0rand(nveh))\n",
    "\n",
    "scenes = simulate(scene, roadway, models, nticks, timestep)"
   ],
   "metadata": {},
   "execution_count": null
  },
  {
   "outputs": [],
   "cell_type": "markdown",
   "source": [
    "The following code will help us to animate the simulation using `Reel`"
   ],
   "metadata": {}
  },
  {
   "outputs": [],
   "cell_type": "code",
   "source": [
    "using Reel\n",
    "\n",
    "function animate(roadway, scenes, overlays, camera=TargetFollowCamera(3, zoom=15.))\n",
    "    animation = roll(fps=1.0/timestep, duration=nticks*timestep) do t, dt\n",
    "        i = Int(floor(t/dt)) + 1\n",
    "        update_camera!(camera, scenes[i])\n",
    "        renderables = [\n",
    "            roadway, scenes[i], overlays[i]...\n",
    "        ]\n",
    "        render(renderables, camera=camera)\n",
    "    end\n",
    "    return animation\n",
    "end\n",
    "nothing # hide"
   ],
   "metadata": {},
   "execution_count": null
  },
  {
   "outputs": [],
   "cell_type": "markdown",
   "source": [
    "The `animate` function defined above takes an `overlays` object which holds a list of\n",
    "overlays for every frame in `scenes`."
   ],
   "metadata": {}
  },
  {
   "outputs": [],
   "cell_type": "markdown",
   "source": [
    "    Note on compatibility:\n",
    "    The interface for rendering overlays has changed in version 0.8 of AutoViz.\n",
    "    In older versions of AutoViz, overlays were rendered by passing in\n",
    "    the current scene and roadway explicitly.\n",
    "    Since AutoViz 0.8, every renderable object must have the same interface.\n",
    "    As a result, an overlay that requires the `roadway` or `scene` for rendering,\n",
    "    must store those objects as internal variables.\n",
    "    `RenderableOverlay` is an overlay that can be used as a wrapper around older overlays\n",
    "    which rely on the `scene` and `roadway` objects. Those overlays are marked by the tag\n",
    "    [legacy]"
   ],
   "metadata": {}
  },
  {
   "outputs": [],
   "cell_type": "markdown",
   "source": [
    "## IDOverlay [legacy]"
   ],
   "metadata": {}
  },
  {
   "outputs": [],
   "cell_type": "markdown",
   "source": [
    "Show IDs for all vehicles in the scene"
   ],
   "metadata": {}
  },
  {
   "outputs": [],
   "cell_type": "code",
   "source": [
    "overlays = [[RenderableOverlay(\n",
    "    IDOverlay(x_off=-2, y_off=1), scene, roadway\n",
    ")] for scene in scenes]\n",
    "animation = animate(roadway, scenes, overlays)"
   ],
   "metadata": {},
   "execution_count": null
  },
  {
   "outputs": [],
   "cell_type": "markdown",
   "source": [
    "## CarFollowingStatsOverlay [legacy]"
   ],
   "metadata": {}
  },
  {
   "outputs": [],
   "cell_type": "markdown",
   "source": [
    "Diplays info about the front neighbor of a car\n",
    "such as the difference in velocity and the relative distance.\n",
    "Show statistics for vehicle 3:"
   ],
   "metadata": {}
  },
  {
   "outputs": [],
   "cell_type": "markdown",
   "source": [
    "### TODO: overlay name is not very descriptive"
   ],
   "metadata": {}
  },
  {
   "outputs": [],
   "cell_type": "code",
   "source": [
    "overlays = [[RenderableOverlay(CarFollowingStatsOverlay(\n",
    "    target_id=3, font_size=20, color=colorant\"black\"\n",
    "), scene, roadway)] for scene in scenes]\n",
    "animation = animate(roadway, scenes, overlays)"
   ],
   "metadata": {},
   "execution_count": null
  },
  {
   "outputs": [],
   "cell_type": "markdown",
   "source": [
    "## LineToFrontOverlay [legacy]"
   ],
   "metadata": {}
  },
  {
   "outputs": [],
   "cell_type": "markdown",
   "source": [
    "Show the line to the front vehicle for vehicle 3"
   ],
   "metadata": {}
  },
  {
   "outputs": [],
   "cell_type": "code",
   "source": [
    "overlays = [[RenderableOverlay(\n",
    "    LineToFrontOverlay(target_id=3), scene, roadway\n",
    ")] for scene in scenes]\n",
    "animation = animate(roadway, scenes, overlays)"
   ],
   "metadata": {},
   "execution_count": null
  },
  {
   "outputs": [],
   "cell_type": "markdown",
   "source": [
    "## TextOverlay"
   ],
   "metadata": {}
  },
  {
   "outputs": [],
   "cell_type": "markdown",
   "source": [
    "The `TextOverlay` displays some text at the desired location.\n",
    "By default, the coordinates are in camera pixels."
   ],
   "metadata": {}
  },
  {
   "outputs": [],
   "cell_type": "code",
   "source": [
    "overlays = [[TextOverlay(\n",
    "    text=[\"Overlays are nice!\", \"frame $(i)/$(length(scenes))\"],\n",
    "    font_size=30, pos=VecE2(50.0, 100.0), color=colorant\"black\",\n",
    "    coordinate_system=:camera_pixels\n",
    ")] for i in 1:length(scenes)]\n",
    "animation = animate(roadway, scenes, overlays)"
   ],
   "metadata": {},
   "execution_count": null
  },
  {
   "outputs": [],
   "cell_type": "markdown",
   "source": [
    "setting the `coordinate_system` keyword to `:scene` places the text\n",
    "in scene coordinates"
   ],
   "metadata": {}
  },
  {
   "outputs": [],
   "cell_type": "code",
   "source": [
    "overlays = [[TextOverlay(\n",
    "    text=[\"Scene Coordinates!\"],\n",
    "    font_size=10+round(20cos(.01i)),\n",
    "    pos=VecE2(2i, 40+round(20*sin(.002i))),\n",
    "    color=colorant\"black\", coordinate_system=:scene\n",
    ")] for i in 1:length(scenes)]\n",
    "animation = animate(roadway, scenes, overlays)"
   ],
   "metadata": {},
   "execution_count": null
  },
  {
   "outputs": [],
   "cell_type": "markdown",
   "source": [
    "## HistogramOverlay\n",
    "\n",
    "Display a bar at the specified position `pos`.\n",
    "The bar has dimensions `width` and `height`\n",
    "and is filled up to a given proportion of its height.\n",
    "The fill proportion is set using `val`, which should be a number between 0 and 1.\n",
    "If it is 0, the bar is not filled, if it is 1 it is filled to the top.\n",
    "The default units are in the camera frame."
   ],
   "metadata": {}
  },
  {
   "outputs": [],
   "cell_type": "code",
   "source": [
    "max_speed = 14.0\n",
    "overlays = [[HistogramOverlay(\n",
    "    pos=VecE2(40.0, 100.0), val=get_by_id(scene, 1).state.v/max_speed, label=\"veh1 speed\",\n",
    "    fill_color=colorant\"blue\", line_color=colorant\"black\",\n",
    "    font_size=24, width=10, height=50\n",
    ")] for scene in scenes]\n",
    "animation = animate(roadway, scenes, overlays)"
   ],
   "metadata": {},
   "execution_count": null
  },
  {
   "outputs": [],
   "cell_type": "markdown",
   "source": [
    "## NeighborsOverlay [legacy]"
   ],
   "metadata": {}
  },
  {
   "outputs": [],
   "cell_type": "markdown",
   "source": [
    "Draws a line between a vehicle and its neighbors."
   ],
   "metadata": {}
  },
  {
   "outputs": [],
   "cell_type": "code",
   "source": [
    "overlays = [[\n",
    "    RenderableOverlay(\n",
    "        NeighborsOverlay(target_id=3, textparams=TextParams(color=colorant\"black\")),\n",
    "        scene, roadway,\n",
    "    )\n",
    "] for (i, scene) in enumerate(scenes)]\n",
    "animation = animate(roadway, scenes, overlays)"
   ],
   "metadata": {},
   "execution_count": null
  },
  {
   "outputs": [],
   "cell_type": "markdown",
   "source": [
    "## Custom Overlays"
   ],
   "metadata": {}
  },
  {
   "outputs": [],
   "cell_type": "markdown",
   "source": [
    "### Lane Highlighting"
   ],
   "metadata": {}
  },
  {
   "outputs": [],
   "cell_type": "markdown",
   "source": [
    "Just like roadways and vehicles, overlays are renderable objects.\n",
    "In order to make a custom overlay type renderable, one needs to implement\n",
    "the `add_renderable!(::RenderModel, ::YourOverlay)` function.\n",
    "Overlays should inherit from the `SceneOverlay` type."
   ],
   "metadata": {}
  },
  {
   "outputs": [],
   "cell_type": "markdown",
   "source": [
    "To define an overlay which highlights a lane, let's start by defining a\n",
    "custom type `LaneOverlay`"
   ],
   "metadata": {}
  },
  {
   "outputs": [],
   "cell_type": "code",
   "source": [
    "struct LaneOverlay <: SceneOverlay\n",
    "    lane::Lane\n",
    "    roadway::Roadway\n",
    "    color::Colorant\n",
    "end\n",
    "\n",
    "function AutoViz.add_renderable!(rendermodel::RenderModel, overlay::LaneOverlay)\n",
    "    add_renderable!(rendermodel, overlay.lane, overlay.roadway, color_asphalt=overlay.color)\n",
    "    return rendermodel\n",
    "end"
   ],
   "metadata": {},
   "execution_count": null
  },
  {
   "outputs": [],
   "cell_type": "markdown",
   "source": [
    "We can now initiate a `LaneOverlay` object and pass it to the `render` function"
   ],
   "metadata": {}
  },
  {
   "outputs": [],
   "cell_type": "code",
   "source": [
    "lane_overlay = LaneOverlay(roadway[LaneTag(1,1)], roadway, RGBA(0.0,0.0,1.0,0.5))\n",
    "camera = TargetFollowCamera(3, zoom=15.)\n",
    "update_camera!(camera, scene)\n",
    "snapshot = render([roadway, lane_overlay, scene], camera=camera)"
   ],
   "metadata": {},
   "execution_count": null
  },
  {
   "outputs": [],
   "cell_type": "markdown",
   "source": [
    "### Concentric Rectangle Overlay"
   ],
   "metadata": {}
  },
  {
   "outputs": [],
   "cell_type": "markdown",
   "source": [
    "In the following, we will show a more advanced example in which direct\n",
    "manipulation of the `CairoContext` is required.\n",
    "We will create an overlay which draws concentric rectangles around\n",
    "a vehicle with ID `target_id`"
   ],
   "metadata": {}
  },
  {
   "outputs": [],
   "cell_type": "code",
   "source": [
    "struct ConcentricRectOverlay <: SceneOverlay\n",
    "    target_id\n",
    "    scene::Frame\n",
    "    n::Int64\n",
    "    color::Colorant\n",
    "end"
   ],
   "metadata": {},
   "execution_count": null
  },
  {
   "outputs": [],
   "cell_type": "markdown",
   "source": [
    "We implement a new rendering function for concentric rectangles"
   ],
   "metadata": {}
  },
  {
   "outputs": [],
   "cell_type": "code",
   "source": [
    "using Cairo\n",
    "\n",
    "function render_concentric_rects(\n",
    "    ctx::CairoContext,\n",
    "    n::Int,\n",
    "    x::Real, y::Real,\n",
    "    w::Real, l::Real,\n",
    "    yaw::Real,\n",
    "    color::Colorant\n",
    ")\n",
    "    save(ctx)\n",
    "    translate(ctx, x, y)\n",
    "    rotate(ctx, yaw)\n",
    "\n",
    "    for i in 1:n\n",
    "        AutoViz.render_round_rect(\n",
    "            ctx,\n",
    "            0, 0, l+2(i-1), w+2(i-1), 1., (i-.5),\n",
    "            RGBA(color.r, color.g, color.b, 1-i/n),\n",
    "            true, false,\n",
    "        )\n",
    "    end\n",
    "\n",
    "    restore(ctx)\n",
    "end"
   ],
   "metadata": {},
   "execution_count": null
  },
  {
   "outputs": [],
   "cell_type": "markdown",
   "source": [
    "The `add_renderable` function adds the function defined above to the\n",
    "instruction stack of the render model via `add_instruction!`.\n",
    "A series of common rendering instructions are already implemented as part\n",
    "of the `AutoViz.jl` framework."
   ],
   "metadata": {}
  },
  {
   "outputs": [],
   "cell_type": "code",
   "source": [
    "function AutoViz.add_renderable!(rendermodel::RenderModel, overlay::ConcentricRectOverlay)\n",
    "    veh = get_by_id(overlay.scene, overlay.target_id)\n",
    "    x, y, yaw = posg(veh)\n",
    "    w, l = AutomotiveDrivingModels.width(veh.def), length(veh.def)\n",
    "\n",
    "    add_instruction!(\n",
    "        rendermodel, render_concentric_rects,\n",
    "        (overlay.n, x, y, w, l, yaw, overlay.color)\n",
    "    )\n",
    "    return rendermodel\n",
    "end\n",
    "\n",
    "concentric_rect_overlay = ConcentricRectOverlay(3, scene, 5, colorant\"green\")\n",
    "snapshot = render([roadway, concentric_rect_overlay, scene], camera=camera)\n",
    "\n",
    "nothing"
   ],
   "metadata": {},
   "execution_count": null
  },
  {
   "outputs": [],
   "cell_type": "markdown",
   "source": [
    "---\n",
    "\n",
    "*This notebook was generated using [Literate.jl](https://github.com/fredrikekre/Literate.jl).*"
   ],
   "metadata": {}
  }
 ],
 "nbformat_minor": 3,
 "metadata": {
  "language_info": {
   "file_extension": ".jl",
   "mimetype": "application/julia",
   "name": "julia",
   "version": "1.0.5"
  },
  "kernelspec": {
   "name": "julia-1.0",
   "display_name": "Julia 1.0.5",
   "language": "julia"
  }
 },
 "nbformat": 4
}
